{
 "cells": [
  {
   "cell_type": "code",
   "execution_count": null,
   "metadata": {
    "vscode": {
     "languageId": "plaintext"
    }
   },
   "outputs": [],
   "source": [
    "def plot_batch_results(output, save_path, step):\n",
    "    images = output[\"images\"]  # Original images\n",
    "    recons_images = output[\"generated\"]  # Reconstructed images\n",
    "    masks = output[\"masks\"]  # Masks for each slot\n",
    "    batch_size = images.shape[0]\n",
    "    num_slots = masks.shape[1]\n",
    "\n",
    "    for i in range(batch_size):\n",
    "        orig_image = images[i].permute(1, 2, 0).cpu().numpy()\n",
    "        recons_image = recons_images[i].permute(1, 2, 0).cpu().numpy()\n",
    "        batch_masks = masks[i]  # Shape: (num_slots, H, W)\n",
    "\n",
    "        # Initialize the figure\n",
    "        fig, axes = plt.subplots(2, num_slots + 1, figsize=(15, 6))\n",
    "\n",
    "        # Plot original and reconstructed images\n",
    "        axes[0, 0].imshow(orig_image)\n",
    "        axes[0, 0].set_title(\"Original Image\")\n",
    "        axes[0, 0].axis(\"off\")\n",
    "\n",
    "        axes[0, 1].imshow(recons_image)\n",
    "        axes[0, 1].set_title(\"Reconstructed Image\")\n",
    "        axes[0, 1].axis(\"off\")\n",
    "\n",
    "        # Plot all slots combined with random colors\n",
    "        combined_slots = np.zeros_like(orig_image)\n",
    "        for j in range(num_slots):\n",
    "            mask = batch_masks[j]\n",
    "            color = np.random.rand(3)  # Random color for each slot\n",
    "            combined_slots += mask[..., None] * color\n",
    "\n",
    "        axes[1, 0].imshow(combined_slots)\n",
    "        axes[1, 0].set_title(\"All Slots Combined\")\n",
    "        axes[1, 0].axis(\"off\")\n",
    "\n",
    "        # Plot individual slot masks\n",
    "        for j in range(num_slots):\n",
    "            axes[1, j + 1].imshow(batch_masks[j], cmap=\"viridis\")\n",
    "            axes[1, j + 1].set_title(f\"Slot {j + 1}\")\n",
    "            axes[1, j + 1].axis(\"off\")\n",
    "\n",
    "        plt.tight_layout()\n",
    "        plt.savefig(f\"{save_path}/results_step_{step}_batch_{i}.png\")\n",
    "        plt.close(fig)\n"
   ]
  }
 ],
 "metadata": {
  "language_info": {
   "name": "python"
  }
 },
 "nbformat": 4,
 "nbformat_minor": 2
}
