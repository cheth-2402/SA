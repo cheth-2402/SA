{
 "cells": [
  {
   "cell_type": "code",
   "execution_count": 3,
   "metadata": {},
   "outputs": [
    {
     "name": "stdout",
     "output_type": "stream",
     "text": [
      "Requirement already satisfied: h5py in /home/cse/btech/cs1210561/anaconda3/lib/python3.11/site-packages (3.9.0)\n",
      "Requirement already satisfied: numpy>=1.17.3 in /home/cse/btech/cs1210561/anaconda3/lib/python3.11/site-packages (from h5py) (1.24.3)\n"
     ]
    }
   ],
   "source": [
    "!pip install h5py\n",
    "import h5py \n",
    "train_images = h5py.File(\"/home/cse/btech/cs1210561/scratch/CLEVRTEX_new/train.hdf5\", \"r\")\n",
    "train_images = train_images['images'][:]"
   ]
  },
  {
   "cell_type": "code",
   "execution_count": 4,
   "metadata": {},
   "outputs": [
    {
     "data": {
      "text/plain": [
       "(71816, 224, 224, 3)"
      ]
     },
     "execution_count": 4,
     "metadata": {},
     "output_type": "execute_result"
    }
   ],
   "source": [
    "train_images.shape"
   ]
  },
  {
   "cell_type": "code",
   "execution_count": 6,
   "metadata": {},
   "outputs": [
    {
     "ename": "AttributeError",
     "evalue": "'numpy.ndarray' object has no attribute 'ToTensor'",
     "output_type": "error",
     "traceback": [
      "\u001b[0;31m---------------------------------------------------------------------------\u001b[0m",
      "\u001b[0;31mAttributeError\u001b[0m                            Traceback (most recent call last)",
      "Cell \u001b[0;32mIn[6], line 2\u001b[0m\n\u001b[1;32m      1\u001b[0m x \u001b[38;5;241m=\u001b[39m train_images[\u001b[38;5;241m0\u001b[39m]\n\u001b[0;32m----> 2\u001b[0m x\u001b[38;5;241m.\u001b[39mToTensor()\u001b[38;5;241m.\u001b[39mshape\n",
      "\u001b[0;31mAttributeError\u001b[0m: 'numpy.ndarray' object has no attribute 'ToTensor'"
     ]
    }
   ],
   "source": [
    "x = train_images[0]\n",
    "x.ToTensor()"
   ]
  },
  {
   "cell_type": "code",
   "execution_count": 33,
   "metadata": {},
   "outputs": [],
   "source": [
    "from torch.utils.data import DataLoader, Dataset\n",
    "\n",
    "class CLEVRTEXDataset(Dataset):\n",
    "    def __init__(self, image_folder = \"/home/cse/btech/cs1210561/scratch/CLEVRTEX_new/train.hdf5\", image_size = 224):\n",
    "        self.image_folder = image_folder\n",
    "        self.train_images = h5py.File(image_folder, \"r\")\n",
    "        self.train_images = self.train_images['images'][:]\n",
    "        self.val_transform_image = transforms.Compose([\n",
    "                               transforms.Normalize((0.485, 0.456, 0.406), (0.229, 0.224, 0.225))])\n",
    "        self.std = torch.tensor([0.229, 0.224, 0.225]).unsqueeze(-1).unsqueeze(-1)\n",
    "        self.mean = torch.tensor([0.485, 0.456, 0.406]).unsqueeze(-1).unsqueeze(-1)\n",
    "\n",
    "    def __len__(self):\n",
    "        return len(self.train_images)    \n",
    "    \n",
    "    def unormalize(self, images):\n",
    "        images = images*self.std.to(images.device)\n",
    "        images = images + self.mean.to(images.device)\n",
    "        return images         \n",
    "\n",
    "    def __getitem__(self, idx):\n",
    "        image = self.train_images[idx]\n",
    "        image = image.astype('float32') / 255.0\n",
    "        image = torch.tensor(image).permute(2, 0, 1)\n",
    "        image = self.val_transform_image(image)\n",
    "        return image\n"
   ]
  },
  {
   "cell_type": "code",
   "execution_count": 25,
   "metadata": {},
   "outputs": [],
   "source": [
    "\n",
    "class CLEVRTExDataset(Dataset):\n",
    "    def __init__(self, image_folder, image_size = 224):\n",
    "        self.image_folder = image_folder\n",
    "        self.image_files = [os.path.join(image_folder, f) for f in os.listdir(image_folder) if f.endswith(('.png', '.jpg'))]\n",
    "        self.val_transform_image = transforms.Compose([transforms.Resize(size = image_size, interpolation=transforms.InterpolationMode.BILINEAR),\n",
    "                               transforms.CenterCrop(size = image_size),\n",
    "                               transforms.ToTensor(),\n",
    "                               transforms.Normalize((0.485, 0.456, 0.406), (0.229, 0.224, 0.225))])\n",
    "        self.std = torch.tensor([0.229, 0.224, 0.225]).unsqueeze(-1).unsqueeze(-1)\n",
    "        self.mean = torch.tensor([0.485, 0.456, 0.406]).unsqueeze(-1).unsqueeze(-1)\n",
    "\n",
    "    def __len__(self):\n",
    "        return len(self.image_files)    \n",
    "    \n",
    "    def unormalize(self, images):\n",
    "\n",
    "        images = images*self.std.to(images.device)\n",
    "        images = images + self.mean.to(images.device)\n",
    "        return images \n",
    "\n",
    "\n",
    "    def __getitem__(self, idx):\n",
    "        img_path = self.image_files[idx]\n",
    "        image = Image.open(img_path).convert('RGB')\n",
    "        image = self.val_transform_image(image)\n",
    "        return image\n"
   ]
  },
  {
   "cell_type": "code",
   "execution_count": 26,
   "metadata": {},
   "outputs": [],
   "source": [
    "import os\n",
    "from torchvision import transforms\n",
    "import torchvision.transforms.functional as TF\n",
    "import torch\n",
    "dat = CLEVRTExDataset(image_folder = \"/home/cse/btech/cs1210561/scratch/CLEVRTEX_new/InternImgs\")"
   ]
  },
  {
   "cell_type": "code",
   "execution_count": 27,
   "metadata": {},
   "outputs": [
    {
     "data": {
      "text/plain": [
       "torch.Size([3, 224, 224])"
      ]
     },
     "execution_count": 27,
     "metadata": {},
     "output_type": "execute_result"
    }
   ],
   "source": [
    "from PIL import Image, ImageFile\n",
    "\n",
    "img = dat[0]\n",
    "img.shape"
   ]
  },
  {
   "cell_type": "code",
   "execution_count": 34,
   "metadata": {},
   "outputs": [],
   "source": [
    "dnew = CLEVRTEXDataset()\n"
   ]
  },
  {
   "cell_type": "code",
   "execution_count": 29,
   "metadata": {},
   "outputs": [
    {
     "data": {
      "text/plain": [
       "torch.Size([3, 224, 224])"
      ]
     },
     "execution_count": 29,
     "metadata": {},
     "output_type": "execute_result"
    }
   ],
   "source": [
    "img2 = dnew[0]\n",
    "img2.shape"
   ]
  },
  {
   "cell_type": "code",
   "execution_count": 32,
   "metadata": {},
   "outputs": [
    {
     "data": {
      "text/plain": [
       "tensor([[[-0.3198, -0.3027, -0.3198,  ..., -0.3369, -0.3541, -0.3369],\n",
       "         [-0.3198, -0.3027, -0.3198,  ..., -0.3369, -0.3369, -0.3541],\n",
       "         [-0.3027, -0.3027, -0.3027,  ..., -0.3541, -0.3541, -0.3712],\n",
       "         ...,\n",
       "         [-0.0458, -0.0458, -0.0458,  ...,  0.5193,  0.5193,  0.5193],\n",
       "         [-0.0458, -0.0458, -0.0458,  ...,  0.5193,  0.5193,  0.5193],\n",
       "         [-0.0458, -0.0629, -0.0458,  ...,  0.5193,  0.5193,  0.5193]],\n",
       "\n",
       "        [[-0.1975, -0.1800, -0.1975,  ..., -0.2150, -0.2325, -0.2150],\n",
       "         [-0.1975, -0.1800, -0.1975,  ..., -0.2325, -0.2150, -0.2325],\n",
       "         [-0.1800, -0.1800, -0.1800,  ..., -0.2325, -0.2325, -0.2500],\n",
       "         ...,\n",
       "         [ 0.0651,  0.0651,  0.0651,  ...,  0.6078,  0.6254,  0.6078],\n",
       "         [ 0.0651,  0.0651,  0.0651,  ...,  0.6078,  0.6078,  0.6078],\n",
       "         [ 0.0651,  0.0476,  0.0651,  ...,  0.6078,  0.6078,  0.6078]],\n",
       "\n",
       "        [[ 0.0082,  0.0256,  0.0256,  ...,  0.0082, -0.0092, -0.0092],\n",
       "         [ 0.0256,  0.0431,  0.0256,  ..., -0.0092, -0.0092, -0.0092],\n",
       "         [ 0.0431,  0.0256,  0.0431,  ..., -0.0092, -0.0092, -0.0267],\n",
       "         ...,\n",
       "         [ 0.2696,  0.2696,  0.2522,  ...,  0.7402,  0.7576,  0.7402],\n",
       "         [ 0.2522,  0.2522,  0.2696,  ...,  0.7402,  0.7576,  0.7402],\n",
       "         [ 0.2696,  0.2522,  0.2522,  ...,  0.7402,  0.7402,  0.7402]]],\n",
       "       dtype=torch.float64)"
      ]
     },
     "execution_count": 32,
     "metadata": {},
     "output_type": "execute_result"
    }
   ],
   "source": [
    "img2"
   ]
  },
  {
   "cell_type": "code",
   "execution_count": 35,
   "metadata": {},
   "outputs": [
    {
     "data": {
      "text/plain": [
       "torch.Size([3, 224, 224])"
      ]
     },
     "execution_count": 35,
     "metadata": {},
     "output_type": "execute_result"
    }
   ],
   "source": [
    "img3 = dnew[0]\n",
    "img3.shape"
   ]
  },
  {
   "cell_type": "code",
   "execution_count": 36,
   "metadata": {},
   "outputs": [
    {
     "data": {
      "text/plain": [
       "tensor([[[-0.3198, -0.3027, -0.3198,  ..., -0.3369, -0.3541, -0.3369],\n",
       "         [-0.3198, -0.3027, -0.3198,  ..., -0.3369, -0.3369, -0.3541],\n",
       "         [-0.3027, -0.3027, -0.3027,  ..., -0.3541, -0.3541, -0.3712],\n",
       "         ...,\n",
       "         [-0.0458, -0.0458, -0.0458,  ...,  0.5193,  0.5193,  0.5193],\n",
       "         [-0.0458, -0.0458, -0.0458,  ...,  0.5193,  0.5193,  0.5193],\n",
       "         [-0.0458, -0.0629, -0.0458,  ...,  0.5193,  0.5193,  0.5193]],\n",
       "\n",
       "        [[-0.1975, -0.1800, -0.1975,  ..., -0.2150, -0.2325, -0.2150],\n",
       "         [-0.1975, -0.1800, -0.1975,  ..., -0.2325, -0.2150, -0.2325],\n",
       "         [-0.1800, -0.1800, -0.1800,  ..., -0.2325, -0.2325, -0.2500],\n",
       "         ...,\n",
       "         [ 0.0651,  0.0651,  0.0651,  ...,  0.6078,  0.6254,  0.6078],\n",
       "         [ 0.0651,  0.0651,  0.0651,  ...,  0.6078,  0.6078,  0.6078],\n",
       "         [ 0.0651,  0.0476,  0.0651,  ...,  0.6078,  0.6078,  0.6078]],\n",
       "\n",
       "        [[ 0.0082,  0.0256,  0.0256,  ...,  0.0082, -0.0092, -0.0092],\n",
       "         [ 0.0256,  0.0431,  0.0256,  ..., -0.0092, -0.0092, -0.0092],\n",
       "         [ 0.0431,  0.0256,  0.0431,  ..., -0.0092, -0.0092, -0.0267],\n",
       "         ...,\n",
       "         [ 0.2696,  0.2696,  0.2522,  ...,  0.7402,  0.7576,  0.7402],\n",
       "         [ 0.2522,  0.2522,  0.2696,  ...,  0.7402,  0.7576,  0.7402],\n",
       "         [ 0.2696,  0.2522,  0.2522,  ...,  0.7402,  0.7402,  0.7402]]])"
      ]
     },
     "execution_count": 36,
     "metadata": {},
     "output_type": "execute_result"
    }
   ],
   "source": [
    "img3"
   ]
  },
  {
   "cell_type": "code",
   "execution_count": null,
   "metadata": {},
   "outputs": [],
   "source": []
  }
 ],
 "metadata": {
  "kernelspec": {
   "display_name": "Python 3 (ipykernel)",
   "language": "python",
   "name": "python3"
  }
 },
 "nbformat": 4,
 "nbformat_minor": 2
}
